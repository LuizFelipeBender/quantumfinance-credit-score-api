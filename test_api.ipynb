{
 "cells": [
  {
   "cell_type": "markdown",
   "id": "e7b04a0b",
   "metadata": {},
   "source": [
    "# QuantumFinance Credit Score API\n",
    "\n",
    "A **QuantumFinance Credit Score API** é uma API RESTful construída com FastAPI e deployada de forma serverless via AWS Lambda e API Gateway. Ela expõe um modelo de machine learning treinado para prever a classificação de crédito de um cliente com base em informações financeiras e comportamentais recentes.\n",
    "\n",
    "## 🔍 Funcionalidades\n",
    "\n",
    "- Previsão de score de crédito com base em atributos financeiros e de comportamento de pagamento.\n",
    "- Autenticação via token Bearer.\n",
    "- Limitação de requisições por usuário (throttling).\n",
    "- Integração com MLflow para rastreamento e versionamento de modelos.\n",
    "- Deploy automatizado via GitHub Actions, Docker e Terraform.\n",
    "\n",
    "## 🚀 Endpoints Principais\n",
    "\n",
    "| Método | Rota        | Descrição                    |\n",
    "|--------|-------------|------------------------------|\n",
    "| POST   | `/predict`  | Retorna a previsão de score  |\n",
    "| GET    | `/health`   | Verifica o status da API     |\n",
    "| GET    | `/models`   | Verifica os models criados   |\n",
    "\n",
    "\n",
    "## 🔍 Documentação Interativa\n",
    "\n",
    "Acesse a documentação Swagger (endpoints, schemas, exemplos de payload e resposta) diretamente:\n",
    "\n",
    "**[Documentação da API](https://16h3b2a35d.execute-api.us-east-1.amazonaws.com/docs)**\n",
    "\n",
    "---\n",
    "\n",
    "## 🔒 Autenticação\n",
    "\n",
    "Todas as requisições ao endpoint `/predict` exigem o uso de um token Bearer válido:\n",
    "\n",
    "```bash\n",
    "-H \"Authorization: Bearer secret-token-456\"\n"
   ]
  },
  {
   "cell_type": "markdown",
   "id": "66d3e3cf",
   "metadata": {},
   "source": [
    "Para testar a api utilize a chamada abaixo"
   ]
  },
  {
   "cell_type": "code",
   "execution_count": null,
   "id": "b403eadb",
   "metadata": {},
   "outputs": [
    {
     "name": "stdout",
     "output_type": "stream",
     "text": [
      "Status Code: 200\n",
      "Resposta: {'score': 'Poor'}\n"
     ]
    }
   ],
   "source": [
    "import requests\n",
    "\n",
    "API_URL = \"https://16h3b2a35d.execute-api.us-east-1.amazonaws.com/predict\"\n",
    "\n",
    "HEADERS = {\n",
    "    \"Content-Type\": \"application/json\",\n",
    "    \"Authorization\": \"Bearer secret-token-456\"\n",
    "}\n",
    "\n",
    "payload = {\n",
    "    \"Annual_Income\": 10000.0,\n",
    "    \"Monthly_Inhand_Salary\": 500.0,\n",
    "    \"Num_Bank_Accounts\": 8,\n",
    "    \"Num_Credit_Card\": 6,\n",
    "    \"Interest_Rate\": 28.0,\n",
    "    \"Num_of_Loan\": 5,\n",
    "    \"Delay_from_due_date\": 30,\n",
    "    \"Num_of_Delayed_Payment\": 12,\n",
    "    \"Changed_Credit_Limit\": 50000.0,\n",
    "    \"Num_Credit_Inquiries\": 0,\n",
    "    \"Credit_Utilization_Ratio\": 0.0,\n",
    "    \"Outstanding_Debt\": 0.0,\n",
    "    \"Monthly_Balance\": 0.0,\n",
    "    \"Age\": 18,\n",
    "    \"Total_EMI_per_month\": 0.0,\n",
    "    \"Type_of_Loan\": \"Personal Loan\",\n",
    "    \"Payment_Behaviour\": \"Low_spent_Large_value_payments\",\n",
    "    \"Amount_invested_monthly\": 0.0,\n",
    "    \"Credit_Mix\": \"Bad\",\n",
    "    \"Payment_of_Min_Amount\": \"No\",\n",
    "    \"Credit_History_Age\": \"1 Year and 2 Months\",\n",
    "    \"Occupation\": \"Unemployed\"\n",
    "}\n",
    "\n",
    "response = requests.post(API_URL, headers=HEADERS, json=payload)\n",
    "\n",
    "print(\"Status Code:\", response.status_code)\n",
    "try:\n",
    "    print(\"Resposta:\", response.json())\n",
    "except Exception as e:\n",
    "    print(\"Erro ao interpretar resposta:\", e)\n",
    "    print(\"Conteúdo bruto:\", response.text)\n"
   ]
  },
  {
   "cell_type": "markdown",
   "id": "749972a3",
   "metadata": {},
   "source": [
    "## ⚙️ CI/CD com GitHub Actions\n",
    "\n",
    "A `quantumfinance-credit-score-api` possui **dois workflows automatizados** para garantir um fluxo de CI/CD eficiente, utilizando **Docker**, **ECR**, **Terraform** e **AWS Lambda**.\n",
    "\n",
    "---\n",
    "\n",
    "### 🚀 1. CI/CD - FastAPI Serverless API\n",
    "\n",
    "Este workflow é acionado **automaticamente** sempre que há um `push` na branch `main`.\n",
    "\n",
    "#### 📂 Caminho:\n",
    "`.github/workflows/deploy-on-push.yml`\n",
    "\n",
    "#### 🔁 Evento:\n",
    "```yaml\n",
    "on:\n",
    "  push:\n",
    "    branches: [main]\n",
    "\n",
    "## 🔄 Workflow: Build and Deploy API\n",
    "\n",
    "Este workflow realiza o **redeploy automatizado da API** sempre que um novo modelo de machine learning for registrado e publicado, mesmo que o código da API não tenha sofrido alterações. Ele é acionado manualmente por outro repositório (o `quantumfinance-credit-score-model`) via evento `repository_dispatch`.\n",
    "\n",
    "---\n",
    "\n",
    "### 📅 Evento de Gatilho\n",
    "\n",
    "on:\n",
    "  repository_dispatch:\n",
    "    types: [redeploy-api]\n",
    "\n"
   ]
  }
 ],
 "metadata": {
  "kernelspec": {
   "display_name": "Python 3",
   "language": "python",
   "name": "python3"
  },
  "language_info": {
   "codemirror_mode": {
    "name": "ipython",
    "version": 3
   },
   "file_extension": ".py",
   "mimetype": "text/x-python",
   "name": "python",
   "nbconvert_exporter": "python",
   "pygments_lexer": "ipython3",
   "version": "3.12.3"
  }
 },
 "nbformat": 4,
 "nbformat_minor": 5
}
